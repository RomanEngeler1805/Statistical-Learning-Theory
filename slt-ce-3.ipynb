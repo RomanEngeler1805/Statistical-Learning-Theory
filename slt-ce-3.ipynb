{
 "cells": [
  {
   "cell_type": "markdown",
   "metadata": {},
   "source": [
    "# SLT-CE-3: Deterministic Annealing"
   ]
  },
  {
   "cell_type": "markdown",
   "metadata": {},
   "source": [
    "<h2 style=\"background-color:#f0b375;\"> References </h2>"
   ]
  },
  {
   "cell_type": "markdown",
   "metadata": {},
   "source": [
    "<ol>\n",
    "<li> Deterministic annealing for clustering, compression, classification, regression, and related optimization\n",
    "problems, Kenneth Rose, 1998, http://ieeexplore.ieee.org/document/726788/\n",
    "</li>\n",
    "    \n",
    "<li>\n",
    "A Ratio Scale Metric and the Compatibility\n",
    "of Ratio Scales: The Possibility of\n",
    "Arrow’s Impossibility Theorem, T.L. Saalty, 1994, https://www.sciencedirect.com/science/article/pii/0893965994900930\n",
    "</li>\n",
    "\n",
    "<li>\n",
    "The wine data set, http://www3.dsi.uminho.pt/pcortez/wine5.pdf\n",
    "</li>\n",
    "    \n",
    "<li>\n",
    "Lecture 3, slide 19, https://ml2.inf.ethz.ch/courses/slt/lectures/slt18_lecture03.pdf\n",
    "</li>\n",
    "    \n",
    "</ol>"
   ]
  },
  {
   "cell_type": "markdown",
   "metadata": {},
   "source": [
    "<h2 style=\"background-color:#f0b375;\"> Setup </h2>"
   ]
  },
  {
   "cell_type": "code",
   "execution_count": 2,
   "metadata": {},
   "outputs": [],
   "source": [
    "import sklearn as skl\n",
    "import matplotlib.pyplot as plt\n",
    "import numpy as np\n",
    "import pandas as pd\n",
    "\n",
    "# Make sure to install treelib in the slt-ce environment: pip install treelib\n",
    "import treelib as tl\n",
    "\n",
    "from sklearn.utils.validation import check_is_fitted\n",
    "from sklearn import cluster\n",
    "from functools import reduce"
   ]
  },
  {
   "cell_type": "markdown",
   "metadata": {},
   "source": [
    "<h2 style=\"background-color:#f0b375;\">\n",
    "Problem -1  \n",
    "<span style=font-size:50%> Complete all Problems to get the grade \"1\" </span>\n",
    "</h2>\n",
    "\n",
    "<p style=\"background-color:#adebad;\">\n",
    "    Implement the function read_X_y_from_csv according to the contract in its docstring.\n",
    "</p>"
   ]
  },
  {
   "cell_type": "code",
   "execution_count": 3,
   "metadata": {},
   "outputs": [],
   "source": [
    "def read_X_y_from_csv(sheet, y_names=None):\n",
    "    \"\"\"Parse a column data store into X, y arrays\n",
    "\n",
    "    Args:\n",
    "        sheet (str): Path to csv data sheet.\n",
    "        y_names (list of str): List of column names used as labels.\n",
    "\n",
    "    Returns:\n",
    "        X (np.ndarray): Array with feature values from columns that are not contained in y_names (n_samples, n_features)\n",
    "        y (dict of np.ndarray): Dictionary with keys y_names, each key contains an array (n_samples, 1)\n",
    "                                with the label data from the corresponding column in sheet. \n",
    "    \"\"\"\n",
    "\n",
    "    df = pd.read_csv(sheet, sep= ',')\n",
    "\n",
    "    y = df[y_names]\n",
    "    X = np.empty([0, len(y)])\n",
    "    \n",
    "    for obj in df.columns:\n",
    "        if obj not in y_names:\n",
    "            X = np.append(X, df[obj].values.reshape(1, -1), axis= 0)\n",
    "\n",
    "    return np.asarray(X.T), y.to_dict()"
   ]
  },
  {
   "cell_type": "markdown",
   "metadata": {},
   "source": [
    "<p style=\"background-color:#adebad;\">\n",
    "Read the wine data [3], which contains 11 physiochemical attributes, and two labels (quality and color).\n",
    "</p>"
   ]
  },
  {
   "cell_type": "code",
   "execution_count": 11,
   "metadata": {},
   "outputs": [],
   "source": [
    "X, y = read_X_y_from_csv(\"wine-data.csv\", y_names=[\"quality\", \"color\"])"
   ]
  },
  {
   "cell_type": "markdown",
   "metadata": {},
   "source": [
    "<h2 style=\"background-color:#f0b375;\">\n",
    "Problem 0\n",
    "</h2>\n",
    "\n",
    "<p style=\"background-color:#adebad;\">\n",
    "    Read reference [1] about deterministic annealing clustering (DAC). Shortly summarize what they refer to as the <i>preferred implementation</i> of the DAC algorithm.\n",
    "</p>"
   ]
  },
  {
   "cell_type": "markdown",
   "metadata": {},
   "source": [
    "They refer to the mass constrained clustering approach as the preferred implementation of the DAC algorithm.<br>\n",
    "\n",
    "#### Algorithm 1\n",
    "They first describe another clustering approach, in which all codevectors are initialized since from the beginning. Hence, at hight T all codevectors map to the same cluster center i.e. coincide. When lowering T, the cluster centers start to split over and over again until a single codevector points to each cluster center as $T \\rightarrow 0$ . <br>\n",
    "\n",
    "#### Algorithm 2\n",
    "In the proposed approach, only as many codevectors are used as cluster centers exist meaning that in the beginning there is one codevector and one cluster center. When splitting occurs, the cluster center, for which the critical temperature is obtained, as well as the corresponding codevector is split. <br>\n",
    "\n",
    "#### Difference\n",
    "For a hard assignment i.e. T $\\rightarrow$ 0, both algorithms lead to the same final result. However at intermediate temperatures, the probability of assigning a data point to a certain cluster will differ between them. This is a consequence of assigning multiple codevectors to the same cluster center in algorithm 1, which distorts the assignment probability. As a result, the clustering at intermediate temperatures is dependent on initilization for algorithm 1."
   ]
  },
  {
   "cell_type": "markdown",
   "metadata": {},
   "source": [
    "<h2 style=\"background-color:#f0b375;\"> Problem 1 </h2>\n",
    "\n",
    "<p style=\"background-color:#adebad;\">\n",
    "    Implement the <b>fit method</b> for the template class DeterministicAnnealing, according to the contract outlined in its docstring.\n",
    "    You can add more class methods as necessary.\n",
    "    See http://scikit-learn.org/stable/modules/generated/sklearn.cluster.KMeans.html for complementary information.\n",
    "</p>"
   ]
  },
  {
   "cell_type": "code",
   "execution_count": 12,
   "metadata": {},
   "outputs": [],
   "source": [
    "class DeterministicAnnealingClustering(skl.base.BaseEstimator, skl.base.TransformerMixin):\n",
    "    \"\"\"Template class for DAC\n",
    "    \n",
    "    Attributes:\n",
    "        cluster_centers_ (np.ndarray): Cluster centroids y_i (n_clusters, n_features)\n",
    "        cluster_probabs_ (np.ndarray): Assignment probability vectors p(y_i | x) for each sample\n",
    "                                       (n_samples, n_clusters)\n",
    "        bifurcation_tree_ (treelib.Tree): Tree object that contains information about cluster evolution during\n",
    "                                          annealing.\n",
    "                                       \n",
    "    Parameters:\n",
    "        n_clusters (int): Maximum number of clusters returned by DAC.\n",
    "        random_state (int): Random seed.\n",
    "    \"\"\"\n",
    "    \n",
    "    def __init__(self, n_clusters=8, random_state=42, metric=\"euclidian\"):\n",
    "        self.n_clusters = n_clusters\n",
    "        self.random_state = random_state\n",
    "        self.metric = metric\n",
    "        \n",
    "    \n",
    "    def fit(self, X):\n",
    "        \"\"\"Compute DAC for input vectors X\n",
    "        \n",
    "        Preferred implementation of DAC as described in reference [1].\n",
    "        Consider to use initialization and reseeding as in sklearn k-means for improved performance.\n",
    "        \n",
    "        Args:\n",
    "            X (np.ndarray): Input array with shape (samples, n_features)\n",
    "        \n",
    "        Returns:\n",
    "            self\n",
    "        \"\"\"\n",
    "        \n",
    "        metric = self.metric\n",
    "        \n",
    "        # initialize vector for distortion measurement\n",
    "        D = np.empty([0, 3])\n",
    "        \n",
    "        \n",
    "        if metric == \"euclidian\":\n",
    "            \n",
    "            # set limits ------------------------------------------------------\n",
    "            T_min = 100\n",
    "            T0 = 1\n",
    "            T = 1E5\n",
    "            \n",
    "            # initialize ------------------------------------------------------\n",
    "            # how many clusters are active\n",
    "            K = 1\n",
    "            \n",
    "            # p(x)\n",
    "            px = 1/X.shape[0]* np.ones([X.shape[0], 1])\n",
    "            \n",
    "            # location of centroids\n",
    "            y = np.zeros([self.n_clusters, X.shape[1]])\n",
    "            for j in range(X.shape[0]):\n",
    "                y[0, :] += px[j]* X[j, :]\n",
    "                \n",
    "            # probability of assignment to a certain centroid\n",
    "            py = np.zeros([self.n_clusters, 1])\n",
    "            py[0] = 1\n",
    "            \n",
    "            # convergence tolerance i.e. ||y- y_new|| < tol\n",
    "            tol = 1\n",
    "            # temperature update T*= alpha\n",
    "            alpha = 0.5\n",
    "                        \n",
    "            # loop over temperatures -> termination via break statement inside loop\n",
    "            while T >= T0:\n",
    "                \n",
    "                # reset convergence measure i.e. eps = ||y- y_new||\n",
    "                eps = 10\n",
    "                                \n",
    "                # loop to achieve convergence for fixed T\n",
    "                while eps > tol:\n",
    "                    \n",
    "                    y_prev = y.copy()\n",
    "                    \n",
    "                    # update --------------------------------------------------\n",
    "                    # initialize p(yi|x)\n",
    "                    pyi_x = np.zeros([self.n_clusters, X.shape[0]])\n",
    "                    \n",
    "                    \n",
    "                    # calc p(yi|x) up to normalization\n",
    "                    # calculate normalization constant\n",
    "                    # normalize p(yi|x) s.t. sum_i(p(yi|x)) = 1 \n",
    " \n",
    "                    # need this since numerical issues arised for low T\n",
    "                    for i in range(K):\n",
    "                        dist = X.T-y[i].reshape(-1, 1)\n",
    "                        pyi_x[i, :] = np.log(py[i])- np.diag(np.dot(dist.T, dist))/ T\n",
    "\n",
    "                    Z = reduce(np.logaddexp, pyi_x[:K, :], -np.Inf)    \n",
    "\n",
    "                    for i in range(K):\n",
    "                        pyi_x[i, :] = np.exp(pyi_x[i, :]- Z)\n",
    "                    \n",
    "                    \n",
    "                     \n",
    "                    # calc p(yi)\n",
    "                    py[:] = np.dot(pyi_x, px)\n",
    "                        \n",
    "                    # calc y(i)\n",
    "                    for i in range(K):       \n",
    "                        y[i, :] = np.dot(np.multiply(px.T, pyi_x[i, :]), X)/ py[i]\n",
    "\n",
    "                        \n",
    "                    # check convergence ---------------------------------------                 \n",
    "                    eps = np.max(np.dot(y- y_prev, (y- y_prev).T))\n",
    "                \n",
    "                # distortion --------------------------------------------------\n",
    "                distortion = 0\n",
    "                \n",
    "                for i in range(K):\n",
    "                    X_cl = X.T-y[i].reshape(-1, 1)\n",
    "                    dist = np.diag(np.dot(X_cl.T, X_cl))\n",
    "                    pxy = np.multiply(px.T, pyi_x[i, :])\n",
    "                    distortion+= np.dot(pxy, dist)\n",
    "\n",
    "                # store T (temperature), K (# active cluster), distortion\n",
    "                D = np.append(D, np.array([T, K, distortion]).reshape(1, -1), axis = 0)\n",
    "                    \n",
    "                # check min temperature ---------------------------------------\n",
    "                if T== T0:\n",
    "                    break\n",
    "                \n",
    "                if T< T_min:\n",
    "                    T = T0 # approx for 0 (avoid numerical issues)\n",
    "                else:\n",
    "                   # cooling\n",
    "                   T*= alpha\n",
    "                \n",
    "                # check phase transition --------------------------------------\n",
    "                if K< self.n_clusters:\n",
    "                    for i in range(K):\n",
    "                        \n",
    "                        # covariance matrix\n",
    "                        Cxy = np.zeros([X.shape[1], X.shape[1]])\n",
    "                        \n",
    "                        for j in range(X.shape[0]):\n",
    "                            # Bayes Theorem  p(x|y) = p(x)* p(y|x)/ p(y)\n",
    "                            px_y = np.dot(px[j], pyi_x[i, j])/ py[i]\n",
    "                            \n",
    "                            Cxy += px_y* np.dot((X[j]- y[i]).T, X[j]- y[i])\n",
    "                            \n",
    "                        # eigenvalues and minimum temperature    \n",
    "                        lam_max = np.max(np.linalg.eigvals(Cxy))\n",
    "                        Tc = 2* lam_max\n",
    "                        \n",
    "                        # phase transition\n",
    "                        if T< Tc:\n",
    "                            # perturbation by multiplying y with ones+ rand\n",
    "                            y[K] = np.dot(y[i], np.ones([X.shape[1], 1])+ 1E-3* np.random.rand(X.shape[1]))\n",
    "                            py[K] = py[i].copy()/2\n",
    "                            py[i] /= 2\n",
    "                        \n",
    "                            K+= 1\n",
    "                            \n",
    "                            break\n",
    "         \n",
    "        # ---------------------------------------------------------------------               \n",
    "        elif metric == \"ratioscale\":\n",
    "            \n",
    "            # code for extension\n",
    "            print(\"hallo\")\n",
    "         \n",
    "        # store the cluster centers and the (soft) assignment\n",
    "        self.distortion = D\n",
    "        self.cluster_centers_ = y\n",
    "        self.py = py\n",
    "        self.pyi_x = pyi_x\n",
    "        \n",
    "        return self\n",
    "  \n",
    "    \n",
    "    \n",
    "    def predict(self, X):\n",
    "        \"\"\"Predict assignment probability vectors for each sample in X.\n",
    "            \n",
    "        Args:\n",
    "            X (np.ndarray): Input array with shape (new_samples, n_features)\n",
    "                \n",
    "        Returns:\n",
    "            P (np.ndarray): Assignment probability vectors (new_samples, n_clusters) \n",
    "        \"\"\"\n",
    "        py = self.py\n",
    "        y= self.cluster_centers_\n",
    "        \n",
    "        # T0\n",
    "        T = 1\n",
    "        K = self.n_clusters\n",
    "            \n",
    "        # initialize p(yi|x)\n",
    "        pyi_x = np.zeros([K, X.shape[0]])\n",
    "                    \n",
    "        # calc p(yi|x) up to normalization\n",
    "        for i in range(K):                        \n",
    "            pyi_x[i, :] = np.log(py[i])- np.diag(np.dot((X.T-y[i].reshape(-1, 1)).T, X.T- y[i].reshape(-1, 1)))/ T\n",
    "\n",
    "        # normalize p(yi|x) s.t. sum_i(p(yi|x)) = 1                  \n",
    "        Z = reduce(np.logaddexp, pyi_x[:K, :], -np.Inf)    \n",
    "                    \n",
    "        for i in range(K):\n",
    "            pyi_x[i, :] = np.exp(pyi_x[i, :]- Z)                   \n",
    "        \n",
    "        self.cluster_probabs_ = pyi_x.T\n",
    "            \n",
    "        return self.cluster_probabs_\n",
    "    \n",
    "    \n",
    "    def transform(self, X):\n",
    "        \"\"\"Transform X to a cluster-distance space.\n",
    "        \n",
    "        In the new space, each dimension is the distance to the cluster centers. \n",
    "        \n",
    "        Args:\n",
    "            X (np.ndarray): Input array with shape (new_samples, n_features)\n",
    "            \n",
    "        Returns:\n",
    "            Y (np.ndarray): Cluster-distance vectors (new_samples, n_clusters)\n",
    "        \"\"\"\n",
    "        check_is_fitted(self, [\"cluster_centers_\"])\n",
    "        \n",
    "        y = self.cluster_centers_\n",
    "        \n",
    "        Y = np.zeros([X.shape[0], y.shape[0]])\n",
    "        \n",
    "        for j in range(X.shape[0]):\n",
    "            for i in range(y.shape[0]):\n",
    "                Y[j, i] = np.sqrt(np.dot(X[j]- y[i], X[j]- y[i]))\n",
    "            \n",
    "        return Y\n",
    "    \n",
    "    def phase_diagram(self):\n",
    "        \n",
    "        distortion = self.distortion\n",
    "        n_clusters = self.n_clusters\n",
    "        \n",
    "        # temperature\n",
    "        T = distortion[:, 0]\n",
    "        # clusters\n",
    "        K = distortion[:, 1]\n",
    "        # distortion\n",
    "        D = distortion[:, 2]\n",
    "\n",
    "        # for plotting vertical lines at location where the number of clusters changes\n",
    "        # need to extract these locations\n",
    "        cl = np.zeros([n_clusters-1])\n",
    "        T_vline = np.zeros([n_clusters-1])         \n",
    "        \n",
    "        for i in range(1, len(D)):\n",
    "            if K[i] > K[i-1]:\n",
    "                cl[int(K[i])- 2] = D[0] / D[i]\n",
    "                T_vline[int(K[i])- 2] = T[i]/ T[-1]\n",
    "        \n",
    "        plt.figure()\n",
    "        plt.plot(np.log(T/ T[-1]), np.log(D[0] / D))\n",
    "        plt.vlines(np.log(T_vline), 0, np.log(cl))\n",
    "        plt.xlabel('log(Tmax/T)')\n",
    "        plt.ylabel('log(D/Dmin)')\n",
    "        plt.show()\n",
    "        \n",
    "        pass"
   ]
  },
  {
   "cell_type": "markdown",
   "metadata": {},
   "source": [
    "<p style=\"background-color:#adebad;\">\n",
    "    Create an instance of your DAC class with n_clusters = 2 and <b>fit the first 6000 samples</b> of the wine data set. Record the execution time. Furthermore, create an instance of the sklearn k-means class, and fit it with the same parameters. Again record the execution time.\n",
    "</p>"
   ]
  },
  {
   "cell_type": "code",
   "execution_count": 13,
   "metadata": {},
   "outputs": [],
   "source": [
    "X_train, X_test, y_train, y_test = skl.model_selection.train_test_split(X,\n",
    "                                                                        y[\"color\"],\n",
    "                                                                        train_size=6000,\n",
    "                                                                        random_state=42)"
   ]
  },
  {
   "cell_type": "code",
   "execution_count": 14,
   "metadata": {},
   "outputs": [
    {
     "name": "stdout",
     "output_type": "stream",
     "text": [
      "CPU times: user 1min 12s, sys: 7.75 s, total: 1min 19s\n",
      "Wall time: 21.5 s\n"
     ]
    }
   ],
   "source": [
    "%%time\n",
    "DAC = DeterministicAnnealingClustering(n_clusters=2, random_state=42)\n",
    "DAC.fit(X_train)"
   ]
  },
  {
   "cell_type": "code",
   "execution_count": 15,
   "metadata": {},
   "outputs": [
    {
     "name": "stdout",
     "output_type": "stream",
     "text": [
      "CPU times: user 332 ms, sys: 16.4 ms, total: 349 ms\n",
      "Wall time: 89 ms\n"
     ]
    }
   ],
   "source": [
    "%%time\n",
    "kmeans = skl.cluster.KMeans(n_clusters=2,random_state=42)\n",
    "kmeans.fit(X_train)"
   ]
  },
  {
   "cell_type": "markdown",
   "metadata": {},
   "source": [
    "<h2 style=\"background-color:#f0b375;\"> Problem 2 </h2>\n",
    "\n",
    "<p style=\"background-color:#adebad;\">\n",
    "    <ul style=\"background-color:#adebad;\">\n",
    "        <li> Implement the <b>predict method</b> for the template class DAC, according to the contract outlined in its docstring.\n",
    "        </li>\n",
    "        \n",
    "        <li>\n",
    "            Use DAC.predict and kmeans.predict to predict the cluster labels of X_test.\n",
    "        </li>\n",
    "        \n",
    "        <li>\n",
    "            Compute the confusion matrix between the two predictions as described in <br>\n",
    "            http://scikit-learn.org/stable/modules/generated/sklearn.metrics.confusion_matrix.html\n",
    "        </li>\n",
    "    </ul>\n",
    "</p>"
   ]
  },
  {
   "cell_type": "code",
   "execution_count": 16,
   "metadata": {},
   "outputs": [
    {
     "name": "stdout",
     "output_type": "stream",
     "text": [
      "CPU times: user 2.04 ms, sys: 218 µs, total: 2.26 ms\n",
      "Wall time: 2.41 ms\n"
     ]
    }
   ],
   "source": [
    "%%time\n",
    "y_kmeans = kmeans.predict(X_test)"
   ]
  },
  {
   "cell_type": "code",
   "execution_count": 17,
   "metadata": {},
   "outputs": [
    {
     "name": "stdout",
     "output_type": "stream",
     "text": [
      "CPU times: user 12.6 ms, sys: 3.64 ms, total: 16.3 ms\n",
      "Wall time: 7.3 ms\n"
     ]
    }
   ],
   "source": [
    "%%time\n",
    "y_DAC = DAC.predict(X_test)"
   ]
  },
  {
   "cell_type": "markdown",
   "metadata": {},
   "source": [
    "<ul style=\"background-color:#adebad;\">\n",
    "<li> Before we can compute the confusion matrix, we need to perform some post-processing on the DAC cluster assignments.\n",
    "    Explain what the function postprocess (defined below) does, and why we need it. To do so, complete the docstring of the function postprocess.\n",
    "        </li>\n",
    "</ul>"
   ]
  },
  {
   "cell_type": "code",
   "execution_count": 18,
   "metadata": {},
   "outputs": [],
   "source": [
    "def postprocess(y_DAC, y_kmeans):\n",
    "    \"\"\" Transform cluster labels from DAC to cluster labels from Kmeans \"\"\"\n",
    "    \n",
    "    # hard assignment to DAC cluster\n",
    "    y_DAC_hard = np.argmax(y_DAC, axis=1)\n",
    "    \n",
    "    # derive mapping between Cluster_label_DAC <-> Cluster_label_Kmeans \n",
    "    n_clusters = len(np.unique(y_DAC_hard))\n",
    "    dac2kmeans = []\n",
    "    for cluster in range(n_clusters):\n",
    "        # for given DA cluster, extract closest data point\n",
    "        argmax = np.argmax(y_DAC[:, cluster])\n",
    "        # for extracted data point, find cluster assignment in kmeans\n",
    "        # which gives the mapping from cluster_DAC -> cluster_kmeans\n",
    "        dac2kmeans.append(y_kmeans[argmax])\n",
    "    \n",
    "    # apply mapping to each data point of y_DAC_hard \n",
    "    # i.e. transform Cluster_labels_DAC to Cluster_labels_Kmeans\n",
    "    y_DAC_new = []\n",
    "    for dac_label in y_DAC_hard:\n",
    "        y_DAC_new.append(dac2kmeans[dac_label])\n",
    "        \n",
    "    return np.array(y_DAC_new)"
   ]
  },
  {
   "cell_type": "code",
   "execution_count": 19,
   "metadata": {},
   "outputs": [
    {
     "data": {
      "text/plain": [
       "array([[286,   2],\n",
       "       [  0, 209]])"
      ]
     },
     "execution_count": 19,
     "metadata": {},
     "output_type": "execute_result"
    }
   ],
   "source": [
    "skl.metrics.confusion_matrix(y_kmeans, postprocess(y_DAC, y_kmeans))"
   ]
  },
  {
   "cell_type": "markdown",
   "metadata": {},
   "source": [
    "<h2 style=\"background-color:#f0b375;\"> Problem 3 </h2>\n",
    "\n",
    "<ul style=\"background-color:#adebad;\">\n",
    "        <li> Implement the <b>transform method</b> for the template class DAC, according to the contract outlined in its docstring.\n",
    "        </li>\n",
    "        <li>\n",
    "        Use DAC.transform and kmeans.transform to transform both, X_train and X_test. \n",
    "        </li>\n",
    "       \n",
    "    </ul>"
   ]
  },
  {
   "cell_type": "code",
   "execution_count": 20,
   "metadata": {},
   "outputs": [],
   "source": [
    "X_train_DAC = DAC.transform(X_train)\n",
    "X_test_DAC = DAC.transform(X_test)\n",
    "\n",
    "X_train_kmeans = kmeans.transform(X_train)\n",
    "X_test_kmeans = kmeans.transform(X_test)"
   ]
  },
  {
   "cell_type": "markdown",
   "metadata": {},
   "source": [
    "<ul style=\"background-color:#adebad;\">\n",
    "        <li>\n",
    "        Fit an SVM classifier with default parameters to the untransformed data, and to the transformed data.\n",
    "        Compare the performance of predicting whether the color of a wine is red or white.\n",
    "        </li>\n",
    "    </ul>"
   ]
  },
  {
   "cell_type": "code",
   "execution_count": 21,
   "metadata": {},
   "outputs": [
    {
     "data": {
      "text/plain": [
       "0.94366197183098588"
      ]
     },
     "execution_count": 21,
     "metadata": {},
     "output_type": "execute_result"
    }
   ],
   "source": [
    "svm = skl.svm.SVC(random_state=42)\n",
    "svm.fit(X_train, y_train)\n",
    "svm.score(X_test, y_test)"
   ]
  },
  {
   "cell_type": "code",
   "execution_count": 22,
   "metadata": {},
   "outputs": [
    {
     "data": {
      "text/plain": [
       "0.9094567404426559"
      ]
     },
     "execution_count": 22,
     "metadata": {},
     "output_type": "execute_result"
    }
   ],
   "source": [
    "svm_DAC = skl.svm.SVC(random_state=42)\n",
    "svm_DAC.fit(X_train_DAC, y_train)\n",
    "svm_DAC.score(X_test_DAC, y_test)"
   ]
  },
  {
   "cell_type": "code",
   "execution_count": 23,
   "metadata": {},
   "outputs": [
    {
     "data": {
      "text/plain": [
       "0.9094567404426559"
      ]
     },
     "execution_count": 23,
     "metadata": {},
     "output_type": "execute_result"
    }
   ],
   "source": [
    "svm = skl.svm.SVC(random_state=42)\n",
    "svm.fit(X_train_kmeans, y_train)\n",
    "svm.score(X_test_kmeans, y_test)"
   ]
  },
  {
   "cell_type": "markdown",
   "metadata": {},
   "source": [
    "<ul style=\"background-color:#adebad;\">\n",
    "        <li>\n",
    "        Produce two scatter plots, one for X_train_DAC and one for X_train_kmeans.<br>\n",
    "        Make the marker color indicate the wine color.\n",
    "        </li>\n",
    "    </ul>"
   ]
  },
  {
   "cell_type": "code",
   "execution_count": 24,
   "metadata": {},
   "outputs": [
    {
     "name": "stderr",
     "output_type": "stream",
     "text": [
      "/home/infsec-t460p/miniconda3/envs/slt-ce/lib/python3.5/site-packages/matplotlib/figure.py:403: UserWarning: matplotlib is currently using a non-GUI backend, so cannot show the figure\n",
      "  \"matplotlib is currently using a non-GUI backend, \"\n"
     ]
    },
    {
     "data": {
      "image/png": "[encoded data removed]",
      "text/plain": [
       "<matplotlib.figure.Figure at 0x7f585f9d83c8>"
      ]
     },
     "metadata": {},
     "output_type": "display_data"
    }
   ],
   "source": [
    "f, (ax1, ax2) = plt.subplots(1, 2, figsize=(15,5))\n",
    "ax1.set_facecolor('xkcd:black')\n",
    "ax1.scatter(X_train_DAC[:, 0], X_train_DAC[:, 1], c= y_train)\n",
    "ax1.set_xlabel('Distance to Cluster Center 1')\n",
    "ax1.set_ylabel('Distance to Cluster Center 2')\n",
    "ax2.set_facecolor('xkcd:black')\n",
    "ax2.scatter(X_train_kmeans[:, 0], X_train_kmeans[:, 1], c= y_train)\n",
    "ax2.set_xlabel('Distance to Cluster Center 1')\n",
    "ax2.set_ylabel('Distance to Cluster Center 2')\n",
    "f.show()"
   ]
  },
  {
   "cell_type": "markdown",
   "metadata": {},
   "source": [
    "<h2 style=\"background-color:#f0b375;\"> Problem 4 </h2>\n",
    "\n",
    "<ul style=\"background-color:#adebad;\">\n",
    "        <li>\n",
    "            Fit and transform X_train with DAC(n_clusters=3,4,5,6,7,8,...). Produce a plot of the SVM score svm_DAC.score(X_test_DAC, y_test) as a function of n_clusters.\n",
    "        </li>\n",
    "    </ul>\n",
    "</p>"
   ]
  },
  {
   "cell_type": "code",
   "execution_count": 25,
   "metadata": {},
   "outputs": [
    {
     "ename": "KeyboardInterrupt",
     "evalue": "",
     "output_type": "error",
     "traceback": [
      "\u001b[0;31m---------------------------------------------------------------------------\u001b[0m",
      "\u001b[0;31mKeyboardInterrupt\u001b[0m                         Traceback (most recent call last)",
      "\u001b[0;32m<ipython-input-25-aa6d18044525>\u001b[0m in \u001b[0;36m<module>\u001b[0;34m()\u001b[0m\n\u001b[1;32m      4\u001b[0m \u001b[0;34m\u001b[0m\u001b[0m\n\u001b[1;32m      5\u001b[0m     \u001b[0mDAC\u001b[0m \u001b[0;34m=\u001b[0m \u001b[0mDeterministicAnnealingClustering\u001b[0m\u001b[0;34m(\u001b[0m\u001b[0mn_clusters\u001b[0m\u001b[0;34m=\u001b[0m \u001b[0mn\u001b[0m\u001b[0;34m,\u001b[0m \u001b[0mrandom_state\u001b[0m\u001b[0;34m=\u001b[0m\u001b[0;36m42\u001b[0m\u001b[0;34m)\u001b[0m\u001b[0;34m\u001b[0m\u001b[0m\n\u001b[0;32m----> 6\u001b[0;31m     \u001b[0mDAC\u001b[0m\u001b[0;34m.\u001b[0m\u001b[0mfit\u001b[0m\u001b[0;34m(\u001b[0m\u001b[0mX_train\u001b[0m\u001b[0;34m)\u001b[0m\u001b[0;34m\u001b[0m\u001b[0m\n\u001b[0m\u001b[1;32m      7\u001b[0m \u001b[0;34m\u001b[0m\u001b[0m\n\u001b[1;32m      8\u001b[0m     \u001b[0mX_train_DAC\u001b[0m \u001b[0;34m=\u001b[0m \u001b[0mDAC\u001b[0m\u001b[0;34m.\u001b[0m\u001b[0mtransform\u001b[0m\u001b[0;34m(\u001b[0m\u001b[0mX_train\u001b[0m\u001b[0;34m)\u001b[0m\u001b[0;34m\u001b[0m\u001b[0m\n",
      "\u001b[0;32m<ipython-input-12-c0e1c0fa00f0>\u001b[0m in \u001b[0;36mfit\u001b[0;34m(self, X)\u001b[0m\n\u001b[1;32m     90\u001b[0m                     \u001b[0;32mfor\u001b[0m \u001b[0mi\u001b[0m \u001b[0;32min\u001b[0m \u001b[0mrange\u001b[0m\u001b[0;34m(\u001b[0m\u001b[0mK\u001b[0m\u001b[0;34m)\u001b[0m\u001b[0;34m:\u001b[0m\u001b[0;34m\u001b[0m\u001b[0m\n\u001b[1;32m     91\u001b[0m                         \u001b[0mdist\u001b[0m \u001b[0;34m=\u001b[0m \u001b[0mX\u001b[0m\u001b[0;34m.\u001b[0m\u001b[0mT\u001b[0m\u001b[0;34m-\u001b[0m\u001b[0my\u001b[0m\u001b[0;34m[\u001b[0m\u001b[0mi\u001b[0m\u001b[0;34m]\u001b[0m\u001b[0;34m.\u001b[0m\u001b[0mreshape\u001b[0m\u001b[0;34m(\u001b[0m\u001b[0;34m-\u001b[0m\u001b[0;36m1\u001b[0m\u001b[0;34m,\u001b[0m \u001b[0;36m1\u001b[0m\u001b[0;34m)\u001b[0m\u001b[0;34m\u001b[0m\u001b[0m\n\u001b[0;32m---> 92\u001b[0;31m                         \u001b[0mpyi_x\u001b[0m\u001b[0;34m[\u001b[0m\u001b[0mi\u001b[0m\u001b[0;34m,\u001b[0m \u001b[0;34m:\u001b[0m\u001b[0;34m]\u001b[0m \u001b[0;34m=\u001b[0m \u001b[0mnp\u001b[0m\u001b[0;34m.\u001b[0m\u001b[0mlog\u001b[0m\u001b[0;34m(\u001b[0m\u001b[0mpy\u001b[0m\u001b[0;34m[\u001b[0m\u001b[0mi\u001b[0m\u001b[0;34m]\u001b[0m\u001b[0;34m)\u001b[0m\u001b[0;34m-\u001b[0m \u001b[0mnp\u001b[0m\u001b[0;34m.\u001b[0m\u001b[0mdiag\u001b[0m\u001b[0;34m(\u001b[0m\u001b[0mnp\u001b[0m\u001b[0;34m.\u001b[0m\u001b[0mdot\u001b[0m\u001b[0;34m(\u001b[0m\u001b[0mdist\u001b[0m\u001b[0;34m.\u001b[0m\u001b[0mT\u001b[0m\u001b[0;34m,\u001b[0m \u001b[0mdist\u001b[0m\u001b[0;34m)\u001b[0m\u001b[0;34m)\u001b[0m\u001b[0;34m/\u001b[0m \u001b[0mT\u001b[0m\u001b[0;34m\u001b[0m\u001b[0m\n\u001b[0m\u001b[1;32m     93\u001b[0m \u001b[0;34m\u001b[0m\u001b[0m\n\u001b[1;32m     94\u001b[0m                     \u001b[0mZ\u001b[0m \u001b[0;34m=\u001b[0m \u001b[0mreduce\u001b[0m\u001b[0;34m(\u001b[0m\u001b[0mnp\u001b[0m\u001b[0;34m.\u001b[0m\u001b[0mlogaddexp\u001b[0m\u001b[0;34m,\u001b[0m \u001b[0mpyi_x\u001b[0m\u001b[0;34m[\u001b[0m\u001b[0;34m:\u001b[0m\u001b[0mK\u001b[0m\u001b[0;34m,\u001b[0m \u001b[0;34m:\u001b[0m\u001b[0;34m]\u001b[0m\u001b[0;34m,\u001b[0m \u001b[0;34m-\u001b[0m\u001b[0mnp\u001b[0m\u001b[0;34m.\u001b[0m\u001b[0mInf\u001b[0m\u001b[0;34m)\u001b[0m\u001b[0;34m\u001b[0m\u001b[0m\n",
      "\u001b[0;31mKeyboardInterrupt\u001b[0m: "
     ]
    }
   ],
   "source": [
    "svm_DAC_score = np.zeros([7, 2])\n",
    "\n",
    "for n in range(3, 10):\n",
    "    \n",
    "    DAC = DeterministicAnnealingClustering(n_clusters= n, random_state=42)\n",
    "    DAC.fit(X_train)\n",
    "    \n",
    "    X_train_DAC = DAC.transform(X_train)\n",
    "    X_test_DAC = DAC.transform(X_test)\n",
    "    \n",
    "    svm_DAC = skl.svm.SVC(random_state=42)\n",
    "    svm_DAC.fit(X_train_DAC, y_train)\n",
    "    \n",
    "    svm_DAC_score[n-3] = [n, svm_DAC.score(X_test_DAC, y_test)]\n",
    "    \n",
    "plt.figure()\n",
    "plt.plot(svm_DAC_score[:, 0], svm_DAC_score[:, 1])\n",
    "plt.xlabel('# clusters')\n",
    "plt.ylabel('Score')\n",
    "plt.show()"
   ]
  },
  {
   "cell_type": "markdown",
   "metadata": {},
   "source": [
    "Just run up to n= 3 since there was an issue in the line <br>\n",
    "Z = reduce(np.logaddexp, pyi_x[:K, :], -np.Inf) <br>\n",
    "when running in the jupyter notebook. However, on my laptop with Spyder (Anaconda), I could run it\n",
    "for n upt to 10. Although spending a considerable amount of time in figuring out the problem, I couldn't find the error source. I would appreciate any hints on why there might be a problem when running as a jupyter notebook."
   ]
  },
  {
   "cell_type": "markdown",
   "metadata": {},
   "source": [
    "<h2 style=\"background-color:#f0b375;\"> Problem 5 </h2>\n",
    "\n",
    "<ul style=\"background-color:#adebad;\">\n",
    "        <li>\n",
    "            Produce a phase diagram plot of the expected distortion D, as shown in figure 2 of reference [1]. For this, extend DAC.fit to save the expected distortion during annealing as an additional attribute self.distortion.\n",
    "            You might also want to save the number of effective clusters and the temperature along the way.\n",
    "        </li>\n",
    "    </ul>\n",
    "</p>"
   ]
  },
  {
   "cell_type": "code",
   "execution_count": null,
   "metadata": {},
   "outputs": [],
   "source": []
  },
  {
   "cell_type": "code",
   "execution_count": null,
   "metadata": {},
   "outputs": [],
   "source": [
    "# extend DAC.fit(self, X):\n",
    "    # ...\n",
    "    # Save information for each (n-th) annealing step:\n",
    "    # self.distortion = [d0, d1, d2, ...]\n",
    "    # self.n_eff_clusters = [e0, e1, e2, ...]\n",
    "    # self.temp = [t0, t1, t2, ...]\n",
    "    # ...\n",
    "DAC.phase_diagram()"
   ]
  },
  {
   "cell_type": "markdown",
   "metadata": {},
   "source": [
    "<h2 style=\"background-color:#f0b375;\"> Problem 6</h2>\n",
    "\n",
    "<ul style=\"background-color:#adebad;\">\n",
    "        <li>\n",
    "            So far, our implementation of DAC assumed that our data is compatible with the euclidian metric. Argue why this assumption is not justified for the wine-data.\n",
    "        </li>\n",
    "    </ul>\n",
    "</p>"
   ]
  },
  {
   "cell_type": "markdown",
   "metadata": {},
   "source": [
    "The prerequisite for euclidean distance is interval level of measurement of all variables. <br>\n",
    "The general principle is that a measure of similarity should be invariant under admissible data transformations, which is to say changes in scale. <br>\n",
    "Thus, euclidian distance is only appropriate for data measured on the same scale. However, in the present case, the scales are very different. Some variables as for example the pH-value is measured on a log scale whereas others are measured in percent as e.g. the alcohol."
   ]
  },
  {
   "cell_type": "markdown",
   "metadata": {},
   "source": [
    "<h2 style=\"background-color:#ef7575;\">\n",
    "Extension 1  \n",
    "<span style=font-size:50%> Complete all Extensions to get the grade \"2\" </span>\n",
    "</h2>\n",
    "\n",
    "<ul style=\"background-color:#adebad;\">\n",
    "        <li>\n",
    "        Implement DAC.plot_bifurcation, which should create a bifurcation plot as shown on slide 19 of lecture 3. As our data is not 1-dimensional as in the lecture slide, we will have to adapt our scheme, so that the distances between nodes of the tree make sense.<br>\n",
    "        Modify DAC.fit to keep track of the distances, using the tree object DAC.bifurcation\\_tree\\_. When a cluster splits, it creates two child nodes. Each node should store its centroid vector, and the distance to the parent centroid vector. After splitting, the parent node is not updated anymore.<br>\n",
    "        In the bifurcation plot, the horizontal distance of a child node to its parent node should be exactly the distance to the parent centroid vector. The two child nodes should move in opposite directions, i.e. one to the left of the parent and one to the right.\n",
    "        </li>\n",
    "    </ul>"
   ]
  },
  {
   "cell_type": "code",
   "execution_count": null,
   "metadata": {
    "collapsed": true
   },
   "outputs": [],
   "source": []
  },
  {
   "cell_type": "markdown",
   "metadata": {},
   "source": [
    "<ul style=\"background-color:#adebad;\">\n",
    "        <li>\n",
    "        Argue how reasonable our method of plotting the bifurcation is. Explain how the 1D-distances between nodes (i.e. nodes that are not siblings) do not correspond exactly to the distances between centroids. Suggest ideas for improvement.\n",
    "        </li>\n",
    "    </ul>"
   ]
  },
  {
   "cell_type": "code",
   "execution_count": null,
   "metadata": {},
   "outputs": [],
   "source": []
  },
  {
   "cell_type": "markdown",
   "metadata": {},
   "source": [
    "<h2 style=\"background-color:#ef7575;\"> Extension 2 </h2>\n",
    "\n",
    "<ul style=\"background-color:#adebad;\">\n",
    "    <li>\n",
    "        First create a fixed 2D embedding (e.g. with LLE, t-SNE, MDS) of the wine data and color the markers according to quality and color. Then run the DAC algorithm on the wine-data set for different n_clusters. Each time use marker shapes to display the cluster memberships, and compare to the labels color and quality.\n",
    "    </li>\n",
    "</ul>"
   ]
  },
  {
   "cell_type": "code",
   "execution_count": null,
   "metadata": {},
   "outputs": [],
   "source": []
  },
  {
   "cell_type": "markdown",
   "metadata": {},
   "source": [
    "<h2 style=\"background-color:#ef7575;\"> Extension 3 </h2>\n",
    "\n",
    "<ul style=\"background-color:#adebad;\">\n",
    "        <li>\n",
    "        All the features of the wine-data set are measured on a ratio scale, which is incompatible with the euclidian metric (Remark: this is not the complete answer to problem 6, argue why they are not compatible). A more appropriate distance is proposed in reference [2]:<br><br>\n",
    "            $d(x,y)=\\log{ \\frac{1}{d^2} \\sum_{i,j=1}^d \\frac{x_i}{x_j} \\frac{y_j}{y_i}}$\n",
    "            \n",
    "          <br><br>\n",
    "            Extend DAC.fit to the case of metric == ratioscale, using d(x,y) as given above.<br>\n",
    "            Hint: As this distance does not give a closed form update formula for the centroids $y$, you will need to do gradient descent to update the centroids. You can either calculate the gradient by hand, or use an automatic differentiation tool like Tensorflow. If you calculate the gradient by hand, provide the formula in Latex below.\n",
    "        </li>\n",
    "    </ul>"
   ]
  },
  {
   "cell_type": "markdown",
   "metadata": {},
   "source": [
    "<ul style=\"background-color:#adebad;\">\n",
    "    <li>\n",
    "        Perform experiments to compare the euclidian and ratioscale metrics.\n",
    "    </li>\n",
    "</ul>"
   ]
  },
  {
   "cell_type": "markdown",
   "metadata": {},
   "source": [
    "<h2 style=\"background-color:#4286f4;\"> Comments </h2>\n",
    "\n",
    "Let us know what you liked about this exercise, and what we can improve!"
   ]
  },
  {
   "cell_type": "markdown",
   "metadata": {},
   "source": []
  }
 ],
 "metadata": {
  "kernelspec": {
   "display_name": "tensorflow",
   "language": "python",
   "name": "tensorflow"
  },
  "language_info": {
   "codemirror_mode": {
    "name": "ipython",
    "version": 2
   },
   "file_extension": ".py",
   "mimetype": "text/x-python",
   "name": "python",
   "nbconvert_exporter": "python",
   "pygments_lexer": "ipython2",
   "version": "2.7.12"
  }
 },
 "nbformat": 4,
 "nbformat_minor": 2
}
